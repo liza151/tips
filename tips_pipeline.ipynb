{
  "nbformat": 4,
  "nbformat_minor": 0,
  "metadata": {
    "colab": {
      "provenance": [],
      "authorship_tag": "ABX9TyMBvNETSIzLcGW5+aKXBXlv",
      "include_colab_link": true
    },
    "kernelspec": {
      "name": "python3",
      "display_name": "Python 3"
    },
    "language_info": {
      "name": "python"
    }
  },
  "cells": [
    {
      "cell_type": "markdown",
      "metadata": {
        "id": "view-in-github",
        "colab_type": "text"
      },
      "source": [
        "<a href=\"https://colab.research.google.com/github/liza151/tips/blob/main/tips_pipeline.ipynb\" target=\"_parent\"><img src=\"https://colab.research.google.com/assets/colab-badge.svg\" alt=\"Open In Colab\"/></a>"
      ]
    },
    {
      "cell_type": "code",
      "execution_count": 3,
      "metadata": {
        "id": "ugO1NJaMLrG8"
      },
      "outputs": [],
      "source": [
        "import seaborn as sns\n",
        "import pandas as pd\n",
        "from sklearn.model_selection import train_test_split\n",
        "from sklearn.pipeline import Pipeline\n",
        "from sklearn.compose import ColumnTransformer\n",
        "from sklearn.preprocessing import StandardScaler, OneHotEncoder\n",
        "from sklearn.impute import SimpleImputer\n",
        "from sklearn.ensemble import RandomForestClassifier\n",
        "from sklearn.tree import DecisionTreeClassifier\n",
        "from sklearn.neighbors import KNeighborsClassifier\n",
        "from sklearn.metrics import accuracy_score"
      ]
    },
    {
      "cell_type": "code",
      "source": [
        "tips = sns.load_dataset('tips')\n",
        "print(tips.head())"
      ],
      "metadata": {
        "colab": {
          "base_uri": "https://localhost:8080/"
        },
        "id": "wdrEFBkbLwhG",
        "outputId": "9af5673e-06e0-4267-ba8c-9ab6a560d59c"
      },
      "execution_count": 4,
      "outputs": [
        {
          "output_type": "stream",
          "name": "stdout",
          "text": [
            "   total_bill   tip     sex smoker  day    time  size\n",
            "0       16.99  1.01  Female     No  Sun  Dinner     2\n",
            "1       10.34  1.66    Male     No  Sun  Dinner     3\n",
            "2       21.01  3.50    Male     No  Sun  Dinner     3\n",
            "3       23.68  3.31    Male     No  Sun  Dinner     2\n",
            "4       24.59  3.61  Female     No  Sun  Dinner     4\n"
          ]
        }
      ]
    },
    {
      "cell_type": "code",
      "source": [
        "# Convert the 'tip' variable into a binary classification problem\n",
        "tips['tip_class'] = (tips['tip'] > tips['tip'].median()).astype(int)\n",
        "X = tips.drop(['tip', 'tip_class'], axis=1)\n",
        "y = tips['tip_class']"
      ],
      "metadata": {
        "id": "uz-pBFiuL7h9"
      },
      "execution_count": 5,
      "outputs": []
    },
    {
      "cell_type": "code",
      "source": [
        "X_train, X_test, y_train, y_test = train_test_split(X, y, test_size=0.2, random_state= 123)"
      ],
      "metadata": {
        "id": "N-N2SbaHM3vW"
      },
      "execution_count": 6,
      "outputs": []
    },
    {
      "cell_type": "code",
      "source": [
        "# Define the preprocessing pipelines for numeric and categorical features\n",
        "numeric_features = ['total_bill', 'size']\n",
        "numeric_transformer = Pipeline(steps=[\n",
        "    ('imputer', SimpleImputer(strategy='mean')),\n",
        "    ('scaler', StandardScaler())\n",
        "])\n",
        "\n",
        "categorical_features = ['sex', 'smoker', 'day', 'time']\n",
        "categorical_transformer = Pipeline(steps=[\n",
        "    ('imputer', SimpleImputer(strategy='most_frequent')),\n",
        "    ('onehot', OneHotEncoder(handle_unknown='ignore'))\n",
        "])"
      ],
      "metadata": {
        "id": "Q4bfUExqM8a6"
      },
      "execution_count": 8,
      "outputs": []
    },
    {
      "cell_type": "code",
      "source": [
        "# Combine the preprocessing steps\n",
        "preprocessor = ColumnTransformer(\n",
        "    transformers=[\n",
        "        ('num', numeric_transformer, numeric_features),\n",
        "        ('cat', categorical_transformer, categorical_features)\n",
        "    ])"
      ],
      "metadata": {
        "id": "n0_stExKNC1b"
      },
      "execution_count": 9,
      "outputs": []
    },
    {
      "cell_type": "code",
      "source": [
        "# Step 7: Define the models and parameter grids for hyperparameter tuning\n",
        "models = {\n",
        "    'RandomForest': Pipeline(steps=[\n",
        "        ('preprocessor', preprocessor),\n",
        "        ('classifier', RandomForestClassifier(random_state=123))\n",
        "    ]),\n",
        "    'DecisionTree': Pipeline(steps=[\n",
        "        ('preprocessor', preprocessor),\n",
        "        ('classifier', DecisionTreeClassifier(random_state=123))\n",
        "    ]),\n",
        "    'KNN': Pipeline(steps=[\n",
        "        ('preprocessor', preprocessor),\n",
        "        ('classifier', KNeighborsClassifier())\n",
        "    ])\n",
        "}"
      ],
      "metadata": {
        "id": "__jJqv9VNME7"
      },
      "execution_count": 18,
      "outputs": []
    },
    {
      "cell_type": "code",
      "source": [
        "#  Define the parameter grids for hyperparameter tuning\n",
        "param_grids = {\n",
        "    'RandomForest': {\n",
        "        'classifier__n_estimators': [50, 100, 200],\n",
        "        'classifier__max_depth': [None, 10, 20, 30]\n",
        "    },\n",
        "    'DecisionTree': {\n",
        "        'classifier__max_depth': [None, 10, 20, 30],\n",
        "        'classifier__min_samples_split': [2, 10, 20]\n",
        "    },\n",
        "    'KNN': {\n",
        "        'classifier__n_neighbors': [3, 5, 7],\n",
        "        'classifier__weights': ['uniform', 'distance']\n",
        "    }\n",
        "}"
      ],
      "metadata": {
        "id": "6SadPQsNNZIm"
      },
      "execution_count": 27,
      "outputs": []
    },
    {
      "cell_type": "code",
      "source": [
        "# Step 8: Train and evaluate the models using GridSearchCV\n",
        "from sklearn.model_selection import train_test_split, GridSearchCV\n",
        "best_estimators = {}\n",
        "for model_name in models:\n",
        "    clf = GridSearchCV(models[model_name], param_grids[model_name], cv=5, scoring='accuracy')\n",
        "    clf.fit(X_train, y_train)\n",
        "    best_estimators[model_name] = clf.best_estimator_\n",
        "    print(f'Best parameters for {model_name}: {clf.best_params_}')"
      ],
      "metadata": {
        "colab": {
          "base_uri": "https://localhost:8080/"
        },
        "id": "Bh2y8RIkNkgz",
        "outputId": "e13aae85-0879-4160-ee04-2383c9ba382d"
      },
      "execution_count": 28,
      "outputs": [
        {
          "output_type": "stream",
          "name": "stdout",
          "text": [
            "Best parameters for RandomForest: {'classifier__max_depth': 10, 'classifier__n_estimators': 50}\n",
            "Best parameters for DecisionTree: {'classifier__max_depth': 10, 'classifier__min_samples_split': 10}\n",
            "Best parameters for KNN: {'classifier__n_neighbors': 5, 'classifier__weights': 'distance'}\n"
          ]
        }
      ]
    },
    {
      "cell_type": "code",
      "source": [
        "# Step 9: Evaluate the best models on the test set\n",
        "for model_name, model in best_estimators.items():\n",
        "    y_pred = model.predict(X_test)\n",
        "    print(f'Classification report for {model_name}:\\n{classification_report(y_test, y_pred)}')"
      ],
      "metadata": {
        "colab": {
          "base_uri": "https://localhost:8080/"
        },
        "id": "ihoyCHr0NqBF",
        "outputId": "c60df5fe-3773-4676-a56f-13ed13452804"
      },
      "execution_count": 29,
      "outputs": [
        {
          "output_type": "stream",
          "name": "stdout",
          "text": [
            "Classification report for RandomForest:\n",
            "              precision    recall  f1-score   support\n",
            "\n",
            "           0       0.70      0.70      0.70        23\n",
            "           1       0.73      0.73      0.73        26\n",
            "\n",
            "    accuracy                           0.71        49\n",
            "   macro avg       0.71      0.71      0.71        49\n",
            "weighted avg       0.71      0.71      0.71        49\n",
            "\n",
            "Classification report for DecisionTree:\n",
            "              precision    recall  f1-score   support\n",
            "\n",
            "           0       0.73      0.70      0.71        23\n",
            "           1       0.74      0.77      0.75        26\n",
            "\n",
            "    accuracy                           0.73        49\n",
            "   macro avg       0.73      0.73      0.73        49\n",
            "weighted avg       0.73      0.73      0.73        49\n",
            "\n",
            "Classification report for KNN:\n",
            "              precision    recall  f1-score   support\n",
            "\n",
            "           0       0.64      0.70      0.67        23\n",
            "           1       0.71      0.65      0.68        26\n",
            "\n",
            "    accuracy                           0.67        49\n",
            "   macro avg       0.67      0.67      0.67        49\n",
            "weighted avg       0.68      0.67      0.67        49\n",
            "\n"
          ]
        }
      ]
    },
    {
      "cell_type": "code",
      "source": [],
      "metadata": {
        "id": "itaBkN2bNsxN"
      },
      "execution_count": null,
      "outputs": []
    }
  ]
}